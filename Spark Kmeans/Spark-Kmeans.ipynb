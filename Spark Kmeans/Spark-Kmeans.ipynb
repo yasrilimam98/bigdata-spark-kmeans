{
  "nbformat": 4,
  "nbformat_minor": 0,
  "metadata": {
    "colab": {
      "name": "072-051 _pyMLib.ipynb",
      "provenance": [],
      "collapsed_sections": [],
      "toc_visible": true
    },
    "kernelspec": {
      "name": "python3",
      "display_name": "Python 3"
    }
  },
  "cells": [
    {
      "cell_type": "markdown",
      "metadata": {
        "id": "ymyEN-VNfBoM"
      },
      "source": [
        "# **Setting Spark**"
      ]
    },
    {
      "cell_type": "code",
      "metadata": {
        "id": "Y14yd_W8e24m"
      },
      "source": [
        "!apt-get install openjdk-8-jdk-headless -qq > /dev/null"
      ],
      "execution_count": null,
      "outputs": []
    },
    {
      "cell_type": "code",
      "metadata": {
        "colab": {
          "base_uri": "https://localhost:8080/"
        },
        "id": "n51BN5arfGAd",
        "outputId": "aabb65fa-03d5-4c22-9c34-097cee1ab65f"
      },
      "source": [
        "!wget --no-check-certificate \\\r\n",
        "    https://downloads.apache.org/spark/spark-3.0.1/spark-3.0.1-bin-hadoop2.7.tgz \\\r\n",
        "    -O /content/spark-2.4.4-bin-hadoop2.7.tgz"
      ],
      "execution_count": null,
      "outputs": [
        {
          "output_type": "stream",
          "text": [
            "--2020-12-23 13:46:42--  https://downloads.apache.org/spark/spark-3.0.1/spark-3.0.1-bin-hadoop2.7.tgz\n",
            "Resolving downloads.apache.org (downloads.apache.org)... 88.99.95.219, 2a01:4f8:10a:201a::2\n",
            "Connecting to downloads.apache.org (downloads.apache.org)|88.99.95.219|:443... connected.\n",
            "HTTP request sent, awaiting response... 200 OK\n",
            "Length: 219929956 (210M) [application/x-gzip]\n",
            "Saving to: ‘/content/spark-2.4.4-bin-hadoop2.7.tgz’\n",
            "\n",
            "/content/spark-2.4. 100%[===================>] 209.74M  17.7MB/s    in 13s     \n",
            "\n",
            "2020-12-23 13:46:56 (16.6 MB/s) - ‘/content/spark-2.4.4-bin-hadoop2.7.tgz’ saved [219929956/219929956]\n",
            "\n"
          ],
          "name": "stdout"
        }
      ]
    },
    {
      "cell_type": "code",
      "metadata": {
        "id": "lOEpWrIPfLZF"
      },
      "source": [
        "!tar xf spark-2.4.4-bin-hadoop2.7.tgz"
      ],
      "execution_count": null,
      "outputs": []
    },
    {
      "cell_type": "code",
      "metadata": {
        "id": "4h5l4fyofNBk"
      },
      "source": [
        "!pip install -q findspark"
      ],
      "execution_count": null,
      "outputs": []
    },
    {
      "cell_type": "code",
      "metadata": {
        "colab": {
          "base_uri": "https://localhost:8080/"
        },
        "id": "hhQZv_GdAIFJ",
        "outputId": "6ca556f0-97f8-4f17-de6b-0d38c69c3da9"
      },
      "source": [
        "!pip install pyspark"
      ],
      "execution_count": null,
      "outputs": [
        {
          "output_type": "stream",
          "text": [
            "Collecting pyspark\n",
            "\u001b[?25l  Downloading https://files.pythonhosted.org/packages/f0/26/198fc8c0b98580f617cb03cb298c6056587b8f0447e20fa40c5b634ced77/pyspark-3.0.1.tar.gz (204.2MB)\n",
            "\u001b[K     |████████████████████████████████| 204.2MB 71kB/s \n",
            "\u001b[?25hCollecting py4j==0.10.9\n",
            "\u001b[?25l  Downloading https://files.pythonhosted.org/packages/9e/b6/6a4fb90cd235dc8e265a6a2067f2a2c99f0d91787f06aca4bcf7c23f3f80/py4j-0.10.9-py2.py3-none-any.whl (198kB)\n",
            "\u001b[K     |████████████████████████████████| 204kB 50.2MB/s \n",
            "\u001b[?25hBuilding wheels for collected packages: pyspark\n",
            "  Building wheel for pyspark (setup.py) ... \u001b[?25l\u001b[?25hdone\n",
            "  Created wheel for pyspark: filename=pyspark-3.0.1-py2.py3-none-any.whl size=204612242 sha256=ab251b9c3bee34ea5f08374de684edc3ace569f41ce8d46dbe40779e08bab515\n",
            "  Stored in directory: /root/.cache/pip/wheels/5e/bd/07/031766ca628adec8435bb40f0bd83bb676ce65ff4007f8e73f\n",
            "Successfully built pyspark\n",
            "Installing collected packages: py4j, pyspark\n",
            "Successfully installed py4j-0.10.9 pyspark-3.0.1\n"
          ],
          "name": "stdout"
        }
      ]
    },
    {
      "cell_type": "code",
      "metadata": {
        "id": "arkeEb3xfOvt"
      },
      "source": [
        "import os\r\n",
        "os.environ[\"JAVA_HOME\"] = \"/usr/lib/jvm/java-8-openjdk-amd64\"\r\n",
        "os.environ[\"SPARK_HOME\"] = \"/content/spark-3.0.1-bin-hadoop2.7\""
      ],
      "execution_count": null,
      "outputs": []
    },
    {
      "cell_type": "code",
      "metadata": {
        "id": "40zHPu82fSYF"
      },
      "source": [
        "import findspark\r\n",
        "findspark.init(\"spark-3.0.1-bin-hadoop2.7\")"
      ],
      "execution_count": null,
      "outputs": []
    },
    {
      "cell_type": "code",
      "metadata": {
        "id": "dUOX2ywGfS3E"
      },
      "source": [
        "from pyspark import SparkContext\r\n",
        "sparkContext = SparkContext.getOrCreate()"
      ],
      "execution_count": null,
      "outputs": []
    },
    {
      "cell_type": "markdown",
      "metadata": {
        "id": "GgKPlI_1flyL"
      },
      "source": [
        "# **Input & Pre-Processing Data**"
      ]
    },
    {
      "cell_type": "code",
      "metadata": {
        "colab": {
          "base_uri": "https://localhost:8080/"
        },
        "id": "dILu_19Nfma7",
        "outputId": "3b44795b-6da9-464c-cae5-43327a862759"
      },
      "source": [
        "from __future__ import print_function\r\n",
        "\r\n",
        "import numpy as np\r\n",
        "import pandas as pd\r\n",
        "import matplotlib.pyplot as plt\r\n",
        "from mpl_toolkits.mplot3d import Axes3D\r\n",
        "from sklearn.datasets.samples_generator import make_blobs\r\n",
        "from pyspark import SparkContext\r\n",
        "from pyspark.ml.clustering import KMeans\r\n",
        "from pyspark.ml.feature import VectorAssembler\r\n",
        "from pyspark.sql import SQLContext\r\n",
        "import pyspark\r\n",
        "\r\n",
        "%matplotlib inline\r\n",
        "\r\n",
        "print (sparkContext.version)"
      ],
      "execution_count": null,
      "outputs": [
        {
          "output_type": "stream",
          "text": [
            "3.0.1\n"
          ],
          "name": "stdout"
        }
      ]
    },
    {
      "cell_type": "code",
      "metadata": {
        "id": "G0nWSYPNYh4r",
        "colab": {
          "base_uri": "https://localhost:8080/"
        },
        "outputId": "3d3bede2-26ba-4ee2-907b-692050fd6df4"
      },
      "source": [
        "from google.colab import drive\r\n",
        "drive.mount('/content/drive')\r\n",
        "!ls"
      ],
      "execution_count": null,
      "outputs": [
        {
          "output_type": "stream",
          "text": [
            "Drive already mounted at /content/drive; to attempt to forcibly remount, call drive.mount(\"/content/drive\", force_remount=True).\n"
          ],
          "name": "stdout"
        }
      ]
    },
    {
      "cell_type": "code",
      "metadata": {
        "id": "zK7aOJkWY8_z",
        "colab": {
          "base_uri": "https://localhost:8080/"
        },
        "outputId": "57993a92-42af-42e3-991f-0828052ccaf4"
      },
      "source": [
        "%cd /content/drive/MyDrive/Tugas ABD Distributed K-Means Clustering/\r\n",
        "!ls"
      ],
      "execution_count": null,
      "outputs": [
        {
          "output_type": "stream",
          "text": [
            "/content/drive/MyDrive/Tugas ABD Distributed K-Means Clustering\n",
            "databersih.csv\n"
          ],
          "name": "stdout"
        }
      ]
    },
    {
      "cell_type": "code",
      "metadata": {
        "colab": {
          "base_uri": "https://localhost:8080/",
          "height": 251
        },
        "id": "48w8ZleEf3eU",
        "outputId": "496c2789-54d3-496b-95d5-852bb7c2b407"
      },
      "source": [
        "import pandas as pd\r\n",
        "import numpy as np\r\n",
        "import matplotlib.pyplot as plt\r\n",
        "\r\n",
        "data_dir = \"databersih.csv\"\r\n",
        "df = pd.read_csv(data_dir)\r\n",
        "df=df.drop('Organization Group',axis=1)\r\n",
        "df=df.drop('Department',axis=1)\r\n",
        "df=df.drop('Union',axis=1)\r\n",
        "df=df.drop('Job Family',axis=1)\r\n",
        "df=df.drop('Year Type',axis=1)\r\n",
        "df=df.drop('Department Code',axis=1)\r\n",
        "df=df.drop('Job',axis=1)\r\n",
        "df=df.drop('retirement',axis=1)\r\n",
        "df=df.drop('health and dental',axis=1)\r\n",
        "df.head()"
      ],
      "execution_count": null,
      "outputs": [
        {
          "output_type": "execute_result",
          "data": {
            "text/html": [
              "<div>\n",
              "<style scoped>\n",
              "    .dataframe tbody tr th:only-of-type {\n",
              "        vertical-align: middle;\n",
              "    }\n",
              "\n",
              "    .dataframe tbody tr th {\n",
              "        vertical-align: top;\n",
              "    }\n",
              "\n",
              "    .dataframe thead th {\n",
              "        text-align: right;\n",
              "    }\n",
              "</style>\n",
              "<table border=\"1\" class=\"dataframe\">\n",
              "  <thead>\n",
              "    <tr style=\"text-align: right;\">\n",
              "      <th></th>\n",
              "      <th>Id</th>\n",
              "      <th>Year</th>\n",
              "      <th>Organization Group Code</th>\n",
              "      <th>Union Code</th>\n",
              "      <th>Job Family Code</th>\n",
              "      <th>Job Code</th>\n",
              "      <th>Employee Identifier</th>\n",
              "      <th>salaries</th>\n",
              "      <th>overtime</th>\n",
              "      <th>other salaries</th>\n",
              "      <th>total_salary</th>\n",
              "      <th>other benefits</th>\n",
              "      <th>total_benefits</th>\n",
              "      <th>total_compensation</th>\n",
              "    </tr>\n",
              "  </thead>\n",
              "  <tbody>\n",
              "    <tr>\n",
              "      <th>0</th>\n",
              "      <td>0</td>\n",
              "      <td>2028</td>\n",
              "      <td>7</td>\n",
              "      <td>792</td>\n",
              "      <td>0</td>\n",
              "      <td>420C</td>\n",
              "      <td>8540990</td>\n",
              "      <td>674.28</td>\n",
              "      <td>0.0</td>\n",
              "      <td>5.76</td>\n",
              "      <td>680.04</td>\n",
              "      <td>53.86</td>\n",
              "      <td>184.77</td>\n",
              "      <td>864.81</td>\n",
              "    </tr>\n",
              "    <tr>\n",
              "      <th>1</th>\n",
              "      <td>1</td>\n",
              "      <td>2028</td>\n",
              "      <td>1</td>\n",
              "      <td>792</td>\n",
              "      <td>0</td>\n",
              "      <td>420C</td>\n",
              "      <td>8540990</td>\n",
              "      <td>674.28</td>\n",
              "      <td>0.0</td>\n",
              "      <td>5.76</td>\n",
              "      <td>680.04</td>\n",
              "      <td>53.86</td>\n",
              "      <td>184.77</td>\n",
              "      <td>864.81</td>\n",
              "    </tr>\n",
              "    <tr>\n",
              "      <th>2</th>\n",
              "      <td>2</td>\n",
              "      <td>2028</td>\n",
              "      <td>1</td>\n",
              "      <td>792</td>\n",
              "      <td>0</td>\n",
              "      <td>420C</td>\n",
              "      <td>8540990</td>\n",
              "      <td>674.28</td>\n",
              "      <td>0.0</td>\n",
              "      <td>5.76</td>\n",
              "      <td>680.04</td>\n",
              "      <td>53.86</td>\n",
              "      <td>184.77</td>\n",
              "      <td>864.81</td>\n",
              "    </tr>\n",
              "    <tr>\n",
              "      <th>3</th>\n",
              "      <td>7</td>\n",
              "      <td>2020</td>\n",
              "      <td>2</td>\n",
              "      <td>21</td>\n",
              "      <td>1600</td>\n",
              "      <td>1657</td>\n",
              "      <td>8580438</td>\n",
              "      <td>55912.50</td>\n",
              "      <td>0.0</td>\n",
              "      <td>0.00</td>\n",
              "      <td>55912.50</td>\n",
              "      <td>4342.10</td>\n",
              "      <td>22335.56</td>\n",
              "      <td>78248.06</td>\n",
              "    </tr>\n",
              "    <tr>\n",
              "      <th>4</th>\n",
              "      <td>37</td>\n",
              "      <td>2020</td>\n",
              "      <td>2</td>\n",
              "      <td>253</td>\n",
              "      <td>9100</td>\n",
              "      <td>9163</td>\n",
              "      <td>12020150</td>\n",
              "      <td>4160.00</td>\n",
              "      <td>0.0</td>\n",
              "      <td>0.00</td>\n",
              "      <td>4160.00</td>\n",
              "      <td>319.25</td>\n",
              "      <td>2752.27</td>\n",
              "      <td>6912.27</td>\n",
              "    </tr>\n",
              "  </tbody>\n",
              "</table>\n",
              "</div>"
            ],
            "text/plain": [
              "   Id  Year  ...  total_benefits  total_compensation\n",
              "0   0  2028  ...          184.77              864.81\n",
              "1   1  2028  ...          184.77              864.81\n",
              "2   2  2028  ...          184.77              864.81\n",
              "3   7  2020  ...        22335.56            78248.06\n",
              "4  37  2020  ...         2752.27             6912.27\n",
              "\n",
              "[5 rows x 14 columns]"
            ]
          },
          "metadata": {
            "tags": []
          },
          "execution_count": 84
        }
      ]
    },
    {
      "cell_type": "code",
      "metadata": {
        "id": "ATv4_IieAEZv"
      },
      "source": [
        "# mengkonversi dataframe ke file csv\r\n",
        "bytes_to_write = df.to_csv('input.csv')"
      ],
      "execution_count": null,
      "outputs": []
    },
    {
      "cell_type": "code",
      "metadata": {
        "colab": {
          "base_uri": "https://localhost:8080/"
        },
        "id": "dPQtbVHdoqVw",
        "outputId": "9ff74f9e-f199-4a59-9aa6-79e7a222d2bd"
      },
      "source": [
        "!ls"
      ],
      "execution_count": null,
      "outputs": [
        {
          "output_type": "stream",
          "text": [
            "databersih.csv\tinput.csv\n"
          ],
          "name": "stdout"
        }
      ]
    },
    {
      "cell_type": "markdown",
      "metadata": {
        "id": "FPzUuN4JrQ_4"
      },
      "source": [
        "# **Read CSV to Spark data frame**"
      ]
    },
    {
      "cell_type": "code",
      "metadata": {
        "id": "V4cUsSw8AVPF"
      },
      "source": [
        "data_dir = \"input.csv\"\r\n",
        "data = pd.read_csv(data_dir)"
      ],
      "execution_count": null,
      "outputs": []
    },
    {
      "cell_type": "code",
      "metadata": {
        "id": "zLO8quuXnQA3"
      },
      "source": [
        "sqlContext = SQLContext(sparkContext)"
      ],
      "execution_count": null,
      "outputs": []
    },
    {
      "cell_type": "code",
      "metadata": {
        "id": "T4PAxMq52qyg"
      },
      "source": [
        "#FEATURES_COL = df.columns[1:].to_list()\r\n",
        "FEATURES_COL = ['total_salary', 'total_benefits', 'total_compensation']\r\n",
        "#path = 'input.csv'\r\n",
        "path = 'drive/MyDrive/Tugas ABD Distributed K-Means Clustering/input.csv'"
      ],
      "execution_count": null,
      "outputs": []
    },
    {
      "cell_type": "code",
      "metadata": {
        "colab": {
          "base_uri": "https://localhost:8080/"
        },
        "id": "SDBrZqhNpAod",
        "outputId": "3c9b0eaf-648e-4787-f01b-ee37000ebe50"
      },
      "source": [
        "data = sqlContext.read.csv(path, header=True) \r\n",
        "data.show()"
      ],
      "execution_count": null,
      "outputs": [
        {
          "output_type": "stream",
          "text": [
            "+---+---+----+-----------------------+----------+---------------+--------+-------------------+--------+--------+--------------+------------+--------------+--------------+------------------+\n",
            "|_c0| Id|Year|Organization Group Code|Union Code|Job Family Code|Job Code|Employee Identifier|salaries|overtime|other salaries|total_salary|other benefits|total_benefits|total_compensation|\n",
            "+---+---+----+-----------------------+----------+---------------+--------+-------------------+--------+--------+--------------+------------+--------------+--------------+------------------+\n",
            "|  0|  0|2028|                      7|       792|              0|    420C|            8540990|  674.28|     0.0|          5.76|      680.04|         53.86|        184.77|            864.81|\n",
            "|  1|  1|2028|                      1|       792|              0|    420C|            8540990|  674.28|     0.0|          5.76|      680.04|         53.86|        184.77|            864.81|\n",
            "|  2|  2|2028|                      1|       792|              0|    420C|            8540990|  674.28|     0.0|          5.76|      680.04|         53.86|        184.77|            864.81|\n",
            "|  3|  7|2020|                      2|        21|           1600|    1657|            8580438| 55912.5|     0.0|           0.0|     55912.5|        4342.1|      22335.56|          78248.06|\n",
            "|  4| 37|2020|                      2|       253|           9100|    9163|           12020150|  4160.0|     0.0|           0.0|      4160.0|        319.25|       2752.27|           6912.27|\n",
            "|  5| 58|2020|                      2|       790|           9900|    9922|           11680160| 8997.89|     0.0|           0.0|     8997.89|        677.39|        677.39|           9675.28|\n",
            "|  6| 61|2020|                      6|       790|           1600|    1632|            8565365|32814.02|     0.0|           0.0|    32814.02|       2466.23|       16028.9|          48842.92|\n",
            "|  7| 69|2020|                      5|       261|           3400|    3417|            8602258| 32278.4| 1377.35|        623.05|     34278.8|       2737.33|       16312.5|           50591.3|\n",
            "|  8| 71|2020|                      2|       253|           9100|    9163|            8565639|24158.93|  1317.1|         649.0|    26125.03|       2015.26|      12205.86|          38330.89|\n",
            "|  9| 78|2020|                      2|        21|           5200|    5211|            8520244|81105.04|     0.0|           0.0|    81105.04|       4336.44|      27547.13|         108652.17|\n",
            "| 10| 80|2020|                      6|       351|            900|     923|            8583436| 30490.0|     0.0|           0.0|     30490.0|        4047.4|      13349.66|          43839.66|\n",
            "| 11|100|2020|                      4|       791|           2300|    P103|            8495865|  703.52|     0.0|         53.27|      756.79|         48.89|         48.89|            805.68|\n",
            "| 12|102|2020|                      5|       790|           9900|    9910|           10880178|  2977.5|     0.0|         12.51|     2990.01|        232.07|        232.07|           3222.08|\n",
            "| 13|117|2020|                      4|       791|           2300|    2320|            8596178|68557.05|     0.0|         250.0|    68807.05|       4791.98|      25448.39|          94255.44|\n",
            "| 14|141|2020|                      2|         6|           7300|    7365|            8542522| 43483.0| 2512.91|           0.0|    45995.91|       3896.65|      19669.27|          65665.18|\n",
            "| 15|148|2020|                      2|        21|           5300|    5380|           11190176|12853.52|     0.0|           0.0|    12853.52|        997.64|        997.64|          13851.16|\n",
            "| 16|158|2020|                      4|       791|           2300|    2320|            9700140|53947.38| 1914.42|       2801.24|    58663.04|       4637.72|      22121.43|          80784.47|\n",
            "| 17|163|2020|                      1|        21|           1000|    1053|            8920144|47390.29|     0.0|           0.0|    47390.29|       3560.21|      13396.94|          60787.23|\n",
            "| 18|164|2020|                      4|       791|           2300|    2328|            8560698| 72346.2|     0.0|         875.0|     73221.2|       4529.04|      24719.23|          97940.43|\n",
            "| 19|205|2020|                      6|       790|           1300|    1326|            8585453| 38848.0| 1161.89|           0.0|    40009.89|       3110.43|      17926.25|          57936.14|\n",
            "+---+---+----+-----------------------+----------+---------------+--------+-------------------+--------+--------+--------------+------------+--------------+--------------+------------------+\n",
            "only showing top 20 rows\n",
            "\n"
          ],
          "name": "stdout"
        }
      ]
    },
    {
      "cell_type": "code",
      "metadata": {
        "colab": {
          "base_uri": "https://localhost:8080/"
        },
        "id": "QBokqXrFqUTt",
        "outputId": "4022b5c3-572d-49d8-abc9-2d7759b48f02"
      },
      "source": [
        "lines = sparkContext.textFile(path)\r\n",
        "data = lines.map(lambda line: line.split(\",\"))\r\n",
        "data.take(2)"
      ],
      "execution_count": null,
      "outputs": [
        {
          "output_type": "execute_result",
          "data": {
            "text/plain": [
              "[['',\n",
              "  'Id',\n",
              "  'Year',\n",
              "  'Organization Group Code',\n",
              "  'Union Code',\n",
              "  'Job Family Code',\n",
              "  'Job Code',\n",
              "  'Employee Identifier',\n",
              "  'salaries',\n",
              "  'overtime',\n",
              "  'other salaries',\n",
              "  'total_salary',\n",
              "  'other benefits',\n",
              "  'total_benefits',\n",
              "  'total_compensation'],\n",
              " ['0',\n",
              "  '0',\n",
              "  '2028',\n",
              "  '7',\n",
              "  '792',\n",
              "  '0',\n",
              "  '420C',\n",
              "  '8540990',\n",
              "  '674.28',\n",
              "  '0.0',\n",
              "  '5.76',\n",
              "  '680.04',\n",
              "  '53.86',\n",
              "  '184.77',\n",
              "  '864.81']]"
            ]
          },
          "metadata": {
            "tags": []
          },
          "execution_count": 94
        }
      ]
    },
    {
      "cell_type": "code",
      "metadata": {
        "colab": {
          "base_uri": "https://localhost:8080/"
        },
        "id": "feEcxu_QqtPv",
        "outputId": "316eb061-85c6-4c04-9788-49c623e7625d"
      },
      "source": [
        "df = data.toDF(['id', 'total_salary', 'total_benefits', 'total_compensation'])\r\n",
        "print (df)\r\n",
        "df.show()"
      ],
      "execution_count": null,
      "outputs": [
        {
          "output_type": "stream",
          "text": [
            "DataFrame[id: string, total_salary: string, total_benefits: string, total_compensation: string, _5: string, _6: string, _7: string, _8: string, _9: string, _10: string, _11: string, _12: string, _13: string, _14: string, _15: string]\n",
            "+---+------------+--------------+--------------------+----------+---------------+--------+-------------------+--------+--------+--------------+------------+--------------+--------------+------------------+\n",
            "| id|total_salary|total_benefits|  total_compensation|        _5|             _6|      _7|                 _8|      _9|     _10|           _11|         _12|           _13|           _14|               _15|\n",
            "+---+------------+--------------+--------------------+----------+---------------+--------+-------------------+--------+--------+--------------+------------+--------------+--------------+------------------+\n",
            "|   |          Id|          Year|Organization Grou...|Union Code|Job Family Code|Job Code|Employee Identifier|salaries|overtime|other salaries|total_salary|other benefits|total_benefits|total_compensation|\n",
            "|  0|           0|          2028|                   7|       792|              0|    420C|            8540990|  674.28|     0.0|          5.76|      680.04|         53.86|        184.77|            864.81|\n",
            "|  1|           1|          2028|                   1|       792|              0|    420C|            8540990|  674.28|     0.0|          5.76|      680.04|         53.86|        184.77|            864.81|\n",
            "|  2|           2|          2028|                   1|       792|              0|    420C|            8540990|  674.28|     0.0|          5.76|      680.04|         53.86|        184.77|            864.81|\n",
            "|  3|           7|          2020|                   2|        21|           1600|    1657|            8580438| 55912.5|     0.0|           0.0|     55912.5|        4342.1|      22335.56|          78248.06|\n",
            "|  4|          37|          2020|                   2|       253|           9100|    9163|           12020150|  4160.0|     0.0|           0.0|      4160.0|        319.25|       2752.27|           6912.27|\n",
            "|  5|          58|          2020|                   2|       790|           9900|    9922|           11680160| 8997.89|     0.0|           0.0|     8997.89|        677.39|        677.39|           9675.28|\n",
            "|  6|          61|          2020|                   6|       790|           1600|    1632|            8565365|32814.02|     0.0|           0.0|    32814.02|       2466.23|       16028.9|          48842.92|\n",
            "|  7|          69|          2020|                   5|       261|           3400|    3417|            8602258| 32278.4| 1377.35|        623.05|     34278.8|       2737.33|       16312.5|           50591.3|\n",
            "|  8|          71|          2020|                   2|       253|           9100|    9163|            8565639|24158.93|  1317.1|         649.0|    26125.03|       2015.26|      12205.86|          38330.89|\n",
            "|  9|          78|          2020|                   2|        21|           5200|    5211|            8520244|81105.04|     0.0|           0.0|    81105.04|       4336.44|      27547.13|         108652.17|\n",
            "| 10|          80|          2020|                   6|       351|            900|     923|            8583436| 30490.0|     0.0|           0.0|     30490.0|        4047.4|      13349.66|          43839.66|\n",
            "| 11|         100|          2020|                   4|       791|           2300|    P103|            8495865|  703.52|     0.0|         53.27|      756.79|         48.89|         48.89|            805.68|\n",
            "| 12|         102|          2020|                   5|       790|           9900|    9910|           10880178|  2977.5|     0.0|         12.51|     2990.01|        232.07|        232.07|           3222.08|\n",
            "| 13|         117|          2020|                   4|       791|           2300|    2320|            8596178|68557.05|     0.0|         250.0|    68807.05|       4791.98|      25448.39|          94255.44|\n",
            "| 14|         141|          2020|                   2|         6|           7300|    7365|            8542522| 43483.0| 2512.91|           0.0|    45995.91|       3896.65|      19669.27|          65665.18|\n",
            "| 15|         148|          2020|                   2|        21|           5300|    5380|           11190176|12853.52|     0.0|           0.0|    12853.52|        997.64|        997.64|          13851.16|\n",
            "| 16|         158|          2020|                   4|       791|           2300|    2320|            9700140|53947.38| 1914.42|       2801.24|    58663.04|       4637.72|      22121.43|          80784.47|\n",
            "| 17|         163|          2020|                   1|        21|           1000|    1053|            8920144|47390.29|     0.0|           0.0|    47390.29|       3560.21|      13396.94|          60787.23|\n",
            "| 18|         164|          2020|                   4|       791|           2300|    2328|            8560698| 72346.2|     0.0|         875.0|     73221.2|       4529.04|      24719.23|          97940.43|\n",
            "+---+------------+--------------+--------------------+----------+---------------+--------+-------------------+--------+--------+--------------+------------+--------------+--------------+------------------+\n",
            "only showing top 20 rows\n",
            "\n"
          ],
          "name": "stdout"
        }
      ]
    },
    {
      "cell_type": "markdown",
      "metadata": {
        "id": "tm_Wbrc0rgZF"
      },
      "source": [
        "# **Convert data (toFloat)**"
      ]
    },
    {
      "cell_type": "code",
      "metadata": {
        "colab": {
          "base_uri": "https://localhost:8080/"
        },
        "id": "XfGB3H1RrlAF",
        "outputId": "879aca6d-8ed7-4b6a-a497-6161b851ca28"
      },
      "source": [
        "df_feat = df.select(*(df[c].cast(\"float\").alias(c) for c in df.columns[1:]))\r\n",
        "df_feat.show()"
      ],
      "execution_count": null,
      "outputs": [
        {
          "output_type": "stream",
          "text": [
            "+------------+--------------+------------------+-----+------+------+-----------+--------+-------+-------+--------+-------+--------+---------+\n",
            "|total_salary|total_benefits|total_compensation|   _5|    _6|    _7|         _8|      _9|    _10|    _11|     _12|    _13|     _14|      _15|\n",
            "+------------+--------------+------------------+-----+------+------+-----------+--------+-------+-------+--------+-------+--------+---------+\n",
            "|        null|          null|              null| null|  null|  null|       null|    null|   null|   null|    null|   null|    null|     null|\n",
            "|         0.0|        2028.0|               7.0|792.0|   0.0|  null|  8540990.0|  674.28|    0.0|   5.76|  680.04|  53.86|  184.77|   864.81|\n",
            "|         1.0|        2028.0|               1.0|792.0|   0.0|  null|  8540990.0|  674.28|    0.0|   5.76|  680.04|  53.86|  184.77|   864.81|\n",
            "|         2.0|        2028.0|               1.0|792.0|   0.0|  null|  8540990.0|  674.28|    0.0|   5.76|  680.04|  53.86|  184.77|   864.81|\n",
            "|         7.0|        2020.0|               2.0| 21.0|1600.0|1657.0|  8580438.0| 55912.5|    0.0|    0.0| 55912.5| 4342.1|22335.56| 78248.06|\n",
            "|        37.0|        2020.0|               2.0|253.0|9100.0|9163.0| 1.202015E7|  4160.0|    0.0|    0.0|  4160.0| 319.25| 2752.27|  6912.27|\n",
            "|        58.0|        2020.0|               2.0|790.0|9900.0|9922.0| 1.168016E7| 8997.89|    0.0|    0.0| 8997.89| 677.39|  677.39|  9675.28|\n",
            "|        61.0|        2020.0|               6.0|790.0|1600.0|1632.0|  8565365.0|32814.02|    0.0|    0.0|32814.02|2466.23| 16028.9| 48842.92|\n",
            "|        69.0|        2020.0|               5.0|261.0|3400.0|3417.0|  8602258.0| 32278.4|1377.35| 623.05| 34278.8|2737.33| 16312.5|  50591.3|\n",
            "|        71.0|        2020.0|               2.0|253.0|9100.0|9163.0|  8565639.0|24158.93| 1317.1|  649.0|26125.03|2015.26|12205.86| 38330.89|\n",
            "|        78.0|        2020.0|               2.0| 21.0|5200.0|5211.0|  8520244.0|81105.04|    0.0|    0.0|81105.04|4336.44|27547.13|108652.17|\n",
            "|        80.0|        2020.0|               6.0|351.0| 900.0| 923.0|  8583436.0| 30490.0|    0.0|    0.0| 30490.0| 4047.4|13349.66| 43839.66|\n",
            "|       100.0|        2020.0|               4.0|791.0|2300.0|  null|  8495865.0|  703.52|    0.0|  53.27|  756.79|  48.89|   48.89|   805.68|\n",
            "|       102.0|        2020.0|               5.0|790.0|9900.0|9910.0|1.0880178E7|  2977.5|    0.0|  12.51| 2990.01| 232.07|  232.07|  3222.08|\n",
            "|       117.0|        2020.0|               4.0|791.0|2300.0|2320.0|  8596178.0|68557.05|    0.0|  250.0|68807.05|4791.98|25448.39| 94255.44|\n",
            "|       141.0|        2020.0|               2.0|  6.0|7300.0|7365.0|  8542522.0| 43483.0|2512.91|    0.0|45995.91|3896.65|19669.27| 65665.18|\n",
            "|       148.0|        2020.0|               2.0| 21.0|5300.0|5380.0|1.1190176E7|12853.52|    0.0|    0.0|12853.52| 997.64|  997.64| 13851.16|\n",
            "|       158.0|        2020.0|               4.0|791.0|2300.0|2320.0|  9700140.0|53947.38|1914.42|2801.24|58663.04|4637.72|22121.43| 80784.47|\n",
            "|       163.0|        2020.0|               1.0| 21.0|1000.0|1053.0|  8920144.0|47390.29|    0.0|    0.0|47390.29|3560.21|13396.94| 60787.23|\n",
            "|       164.0|        2020.0|               4.0|791.0|2300.0|2328.0|  8560698.0| 72346.2|    0.0|  875.0| 73221.2|4529.04|24719.23| 97940.43|\n",
            "+------------+--------------+------------------+-----+------+------+-----------+--------+-------+-------+--------+-------+--------+---------+\n",
            "only showing top 20 rows\n",
            "\n"
          ],
          "name": "stdout"
        }
      ]
    },
    {
      "cell_type": "code",
      "metadata": {
        "colab": {
          "base_uri": "https://localhost:8080/"
        },
        "id": "39hEl-Mjzj_H",
        "outputId": "62915f91-a0e3-447d-b3fa-3963031d6d7a"
      },
      "source": [
        "for col in df.columns:\r\n",
        "    if col in FEATURES_COL:\r\n",
        "        df = df.withColumn(col,df[col].cast('float'))\r\n",
        "df.show()"
      ],
      "execution_count": null,
      "outputs": [
        {
          "output_type": "stream",
          "text": [
            "+---+------------+--------------+------------------+----------+---------------+--------+-------------------+--------+--------+--------------+------------+--------------+--------------+------------------+\n",
            "| id|total_salary|total_benefits|total_compensation|        _5|             _6|      _7|                 _8|      _9|     _10|           _11|         _12|           _13|           _14|               _15|\n",
            "+---+------------+--------------+------------------+----------+---------------+--------+-------------------+--------+--------+--------------+------------+--------------+--------------+------------------+\n",
            "|   |        null|          null|              null|Union Code|Job Family Code|Job Code|Employee Identifier|salaries|overtime|other salaries|total_salary|other benefits|total_benefits|total_compensation|\n",
            "|  0|         0.0|        2028.0|               7.0|       792|              0|    420C|            8540990|  674.28|     0.0|          5.76|      680.04|         53.86|        184.77|            864.81|\n",
            "|  1|         1.0|        2028.0|               1.0|       792|              0|    420C|            8540990|  674.28|     0.0|          5.76|      680.04|         53.86|        184.77|            864.81|\n",
            "|  2|         2.0|        2028.0|               1.0|       792|              0|    420C|            8540990|  674.28|     0.0|          5.76|      680.04|         53.86|        184.77|            864.81|\n",
            "|  3|         7.0|        2020.0|               2.0|        21|           1600|    1657|            8580438| 55912.5|     0.0|           0.0|     55912.5|        4342.1|      22335.56|          78248.06|\n",
            "|  4|        37.0|        2020.0|               2.0|       253|           9100|    9163|           12020150|  4160.0|     0.0|           0.0|      4160.0|        319.25|       2752.27|           6912.27|\n",
            "|  5|        58.0|        2020.0|               2.0|       790|           9900|    9922|           11680160| 8997.89|     0.0|           0.0|     8997.89|        677.39|        677.39|           9675.28|\n",
            "|  6|        61.0|        2020.0|               6.0|       790|           1600|    1632|            8565365|32814.02|     0.0|           0.0|    32814.02|       2466.23|       16028.9|          48842.92|\n",
            "|  7|        69.0|        2020.0|               5.0|       261|           3400|    3417|            8602258| 32278.4| 1377.35|        623.05|     34278.8|       2737.33|       16312.5|           50591.3|\n",
            "|  8|        71.0|        2020.0|               2.0|       253|           9100|    9163|            8565639|24158.93|  1317.1|         649.0|    26125.03|       2015.26|      12205.86|          38330.89|\n",
            "|  9|        78.0|        2020.0|               2.0|        21|           5200|    5211|            8520244|81105.04|     0.0|           0.0|    81105.04|       4336.44|      27547.13|         108652.17|\n",
            "| 10|        80.0|        2020.0|               6.0|       351|            900|     923|            8583436| 30490.0|     0.0|           0.0|     30490.0|        4047.4|      13349.66|          43839.66|\n",
            "| 11|       100.0|        2020.0|               4.0|       791|           2300|    P103|            8495865|  703.52|     0.0|         53.27|      756.79|         48.89|         48.89|            805.68|\n",
            "| 12|       102.0|        2020.0|               5.0|       790|           9900|    9910|           10880178|  2977.5|     0.0|         12.51|     2990.01|        232.07|        232.07|           3222.08|\n",
            "| 13|       117.0|        2020.0|               4.0|       791|           2300|    2320|            8596178|68557.05|     0.0|         250.0|    68807.05|       4791.98|      25448.39|          94255.44|\n",
            "| 14|       141.0|        2020.0|               2.0|         6|           7300|    7365|            8542522| 43483.0| 2512.91|           0.0|    45995.91|       3896.65|      19669.27|          65665.18|\n",
            "| 15|       148.0|        2020.0|               2.0|        21|           5300|    5380|           11190176|12853.52|     0.0|           0.0|    12853.52|        997.64|        997.64|          13851.16|\n",
            "| 16|       158.0|        2020.0|               4.0|       791|           2300|    2320|            9700140|53947.38| 1914.42|       2801.24|    58663.04|       4637.72|      22121.43|          80784.47|\n",
            "| 17|       163.0|        2020.0|               1.0|        21|           1000|    1053|            8920144|47390.29|     0.0|           0.0|    47390.29|       3560.21|      13396.94|          60787.23|\n",
            "| 18|       164.0|        2020.0|               4.0|       791|           2300|    2328|            8560698| 72346.2|     0.0|         875.0|     73221.2|       4529.04|      24719.23|          97940.43|\n",
            "+---+------------+--------------+------------------+----------+---------------+--------+-------------------+--------+--------+--------------+------------+--------------+--------------+------------------+\n",
            "only showing top 20 rows\n",
            "\n"
          ],
          "name": "stdout"
        }
      ]
    },
    {
      "cell_type": "markdown",
      "metadata": {
        "id": "1CpRtQi5z6m3"
      },
      "source": [
        "# **Drop Null Value**"
      ]
    },
    {
      "cell_type": "code",
      "metadata": {
        "colab": {
          "base_uri": "https://localhost:8080/"
        },
        "id": "BwG9grxmz94Y",
        "outputId": "d28723a9-6517-4753-ca5b-0a2669fa1e53"
      },
      "source": [
        "df = df.na.drop()\r\n",
        "df.show()"
      ],
      "execution_count": null,
      "outputs": [
        {
          "output_type": "stream",
          "text": [
            "+---+------------+--------------+------------------+---+----+----+--------+--------+-------+-------+--------+-------+--------+---------+\n",
            "| id|total_salary|total_benefits|total_compensation| _5|  _6|  _7|      _8|      _9|    _10|    _11|     _12|    _13|     _14|      _15|\n",
            "+---+------------+--------------+------------------+---+----+----+--------+--------+-------+-------+--------+-------+--------+---------+\n",
            "|  0|         0.0|        2028.0|               7.0|792|   0|420C| 8540990|  674.28|    0.0|   5.76|  680.04|  53.86|  184.77|   864.81|\n",
            "|  1|         1.0|        2028.0|               1.0|792|   0|420C| 8540990|  674.28|    0.0|   5.76|  680.04|  53.86|  184.77|   864.81|\n",
            "|  2|         2.0|        2028.0|               1.0|792|   0|420C| 8540990|  674.28|    0.0|   5.76|  680.04|  53.86|  184.77|   864.81|\n",
            "|  3|         7.0|        2020.0|               2.0| 21|1600|1657| 8580438| 55912.5|    0.0|    0.0| 55912.5| 4342.1|22335.56| 78248.06|\n",
            "|  4|        37.0|        2020.0|               2.0|253|9100|9163|12020150|  4160.0|    0.0|    0.0|  4160.0| 319.25| 2752.27|  6912.27|\n",
            "|  5|        58.0|        2020.0|               2.0|790|9900|9922|11680160| 8997.89|    0.0|    0.0| 8997.89| 677.39|  677.39|  9675.28|\n",
            "|  6|        61.0|        2020.0|               6.0|790|1600|1632| 8565365|32814.02|    0.0|    0.0|32814.02|2466.23| 16028.9| 48842.92|\n",
            "|  7|        69.0|        2020.0|               5.0|261|3400|3417| 8602258| 32278.4|1377.35| 623.05| 34278.8|2737.33| 16312.5|  50591.3|\n",
            "|  8|        71.0|        2020.0|               2.0|253|9100|9163| 8565639|24158.93| 1317.1|  649.0|26125.03|2015.26|12205.86| 38330.89|\n",
            "|  9|        78.0|        2020.0|               2.0| 21|5200|5211| 8520244|81105.04|    0.0|    0.0|81105.04|4336.44|27547.13|108652.17|\n",
            "| 10|        80.0|        2020.0|               6.0|351| 900| 923| 8583436| 30490.0|    0.0|    0.0| 30490.0| 4047.4|13349.66| 43839.66|\n",
            "| 11|       100.0|        2020.0|               4.0|791|2300|P103| 8495865|  703.52|    0.0|  53.27|  756.79|  48.89|   48.89|   805.68|\n",
            "| 12|       102.0|        2020.0|               5.0|790|9900|9910|10880178|  2977.5|    0.0|  12.51| 2990.01| 232.07|  232.07|  3222.08|\n",
            "| 13|       117.0|        2020.0|               4.0|791|2300|2320| 8596178|68557.05|    0.0|  250.0|68807.05|4791.98|25448.39| 94255.44|\n",
            "| 14|       141.0|        2020.0|               2.0|  6|7300|7365| 8542522| 43483.0|2512.91|    0.0|45995.91|3896.65|19669.27| 65665.18|\n",
            "| 15|       148.0|        2020.0|               2.0| 21|5300|5380|11190176|12853.52|    0.0|    0.0|12853.52| 997.64|  997.64| 13851.16|\n",
            "| 16|       158.0|        2020.0|               4.0|791|2300|2320| 9700140|53947.38|1914.42|2801.24|58663.04|4637.72|22121.43| 80784.47|\n",
            "| 17|       163.0|        2020.0|               1.0| 21|1000|1053| 8920144|47390.29|    0.0|    0.0|47390.29|3560.21|13396.94| 60787.23|\n",
            "| 18|       164.0|        2020.0|               4.0|791|2300|2328| 8560698| 72346.2|    0.0|  875.0| 73221.2|4529.04|24719.23| 97940.43|\n",
            "| 19|       205.0|        2020.0|               6.0|790|1300|1326| 8585453| 38848.0|1161.89|    0.0|40009.89|3110.43|17926.25| 57936.14|\n",
            "+---+------------+--------------+------------------+---+----+----+--------+--------+-------+-------+--------+-------+--------+---------+\n",
            "only showing top 20 rows\n",
            "\n"
          ],
          "name": "stdout"
        }
      ]
    },
    {
      "cell_type": "markdown",
      "metadata": {
        "id": "u-OZV7JY1qIU"
      },
      "source": [
        "# **Create Feature for Clustering**"
      ]
    },
    {
      "cell_type": "code",
      "metadata": {
        "colab": {
          "base_uri": "https://localhost:8080/"
        },
        "id": "TpW_57vj1p9a",
        "outputId": "1be19078-c635-4317-9986-0c1131374869"
      },
      "source": [
        "vecAssembler = VectorAssembler(inputCols=FEATURES_COL, outputCol=\"features\")\r\n",
        "df_kmeans = vecAssembler.transform(df).select('Id', 'features')\r\n",
        "df_kmeans.show()"
      ],
      "execution_count": null,
      "outputs": [
        {
          "output_type": "stream",
          "text": [
            "+---+------------------+\n",
            "| Id|          features|\n",
            "+---+------------------+\n",
            "|  0|  [0.0,2028.0,7.0]|\n",
            "|  1|  [1.0,2028.0,1.0]|\n",
            "|  2|  [2.0,2028.0,1.0]|\n",
            "|  3|  [7.0,2020.0,2.0]|\n",
            "|  4| [37.0,2020.0,2.0]|\n",
            "|  5| [58.0,2020.0,2.0]|\n",
            "|  6| [61.0,2020.0,6.0]|\n",
            "|  7| [69.0,2020.0,5.0]|\n",
            "|  8| [71.0,2020.0,2.0]|\n",
            "|  9| [78.0,2020.0,2.0]|\n",
            "| 10| [80.0,2020.0,6.0]|\n",
            "| 11|[100.0,2020.0,4.0]|\n",
            "| 12|[102.0,2020.0,5.0]|\n",
            "| 13|[117.0,2020.0,4.0]|\n",
            "| 14|[141.0,2020.0,2.0]|\n",
            "| 15|[148.0,2020.0,2.0]|\n",
            "| 16|[158.0,2020.0,4.0]|\n",
            "| 17|[163.0,2020.0,1.0]|\n",
            "| 18|[164.0,2020.0,4.0]|\n",
            "| 19|[205.0,2020.0,6.0]|\n",
            "+---+------------------+\n",
            "only showing top 20 rows\n",
            "\n"
          ],
          "name": "stdout"
        }
      ]
    },
    {
      "cell_type": "markdown",
      "metadata": {
        "id": "XJyYRX1P5MjM"
      },
      "source": [
        "# **Optimize valiabel 'K'**"
      ]
    },
    {
      "cell_type": "code",
      "metadata": {
        "id": "wDIP2CCc5MKN"
      },
      "source": [
        "cost = np.zeros(20)\r\n",
        "for k in range(2,20):\r\n",
        "    kmeans = KMeans().setK(k).setSeed(1).setFeaturesCol(\"features\")\r\n",
        "    model = kmeans.fit(df_kmeans.sample(False,0.1, seed=42))\r\n",
        "    cost[k] = model.summary.trainingCost"
      ],
      "execution_count": null,
      "outputs": []
    },
    {
      "cell_type": "code",
      "metadata": {
        "colab": {
          "base_uri": "https://localhost:8080/",
          "height": 416
        },
        "id": "3tN7bSwE53dr",
        "outputId": "0bdb2e5b-e0bf-4fe9-fa93-d399a587e10c"
      },
      "source": [
        "fig, ax = plt.subplots(1,1, figsize =(8,6))\r\n",
        "ax.plot(range(2,20),cost[2:20])\r\n",
        "ax.set_xlabel('k')\r\n",
        "ax.set_ylabel('cost')"
      ],
      "execution_count": null,
      "outputs": [
        {
          "output_type": "execute_result",
          "data": {
            "text/plain": [
              "Text(0, 0.5, 'cost')"
            ]
          },
          "metadata": {
            "tags": []
          },
          "execution_count": 102
        },
        {
          "output_type": "display_data",
          "data": {
            "image/png": "[encoded data removed]",
            "text/plain": [
              "<Figure size 576x432 with 1 Axes>"
            ]
          },
          "metadata": {
            "tags": [],
            "needs_background": "light"
          }
        }
      ]
    },
    {
      "cell_type": "markdown",
      "metadata": {
        "id": "EjCGgaPT57C6"
      },
      "source": [
        "# **Train Model K-Means**"
      ]
    },
    {
      "cell_type": "code",
      "metadata": {
        "colab": {
          "base_uri": "https://localhost:8080/"
        },
        "id": "1HA0LNe85-5D",
        "outputId": "d4204c5b-66f9-4bab-caa5-4a5547e80d29"
      },
      "source": [
        "k = 17\r\n",
        "kmeans = KMeans().setK(k).setSeed(1).setFeaturesCol(\"features\")\r\n",
        "model = kmeans.fit(df_kmeans)\r\n",
        "centers = model.clusterCenters()\r\n",
        "\r\n",
        "print(\"Cluster Centers: \")\r\n",
        "for center in centers:\r\n",
        "    print(center)"
      ],
      "execution_count": null,
      "outputs": [
        {
          "output_type": "stream",
          "text": [
            "Cluster Centers: \n",
            "[3.88102520e+04 2.02000000e+03 2.89403384e+00]\n",
            "[7.27818e+03 2.02000e+03 3.17000e+00]\n",
            "[4.85249454e+04 2.01900000e+03 4.99304441e+00]\n",
            "[2.58393080e+04 2.02000000e+03 2.90736342e+00]\n",
            "[3.21644134e+04 2.02000000e+03 2.88299532e+00]\n",
            "[1.51907083e+04 2.02000000e+03 2.95208333e+00]\n",
            "[2.13895777e+04 2.02000000e+03 2.99419954e+00]\n",
            "[5.05613864e+04 2.01900000e+03 4.97047497e+00]\n",
            "[4.64670963e+04 2.01900000e+03 4.91415193e+00]\n",
            "[3.54148260e+04 2.02000000e+03 2.90847458e+00]\n",
            "[4.16259420e+03 2.02000000e+03 3.04830918e+00]\n",
            "[1.05024650e+04 2.02000000e+03 3.06427221e+00]\n",
            "[4.20033142e+04 2.01920585e+03 4.54644495e+00]\n",
            "[1395.97472924 2020.0866426     2.97111913]\n",
            "[2.91655117e+04 2.02000000e+03 3.02333621e+00]\n",
            "[4.4347810e+04 2.0190000e+03 4.9366613e+00]\n",
            "[1.26464963e+04 2.02000000e+03 2.92647059e+00]\n"
          ],
          "name": "stdout"
        }
      ]
    },
    {
      "cell_type": "markdown",
      "metadata": {
        "id": "EkFARqKR6TlT"
      },
      "source": [
        "# **Assign Cluster**"
      ]
    },
    {
      "cell_type": "code",
      "metadata": {
        "colab": {
          "base_uri": "https://localhost:8080/"
        },
        "id": "lIaFhf2T6WYD",
        "outputId": "033c30e8-78c1-4126-9a71-b6fa7123a38c"
      },
      "source": [
        "transformed = model.transform(df_kmeans).select('Id', 'prediction')\r\n",
        "rows = transformed.collect()\r\n",
        "print(rows[:3])"
      ],
      "execution_count": null,
      "outputs": [
        {
          "output_type": "stream",
          "text": [
            "[Row(Id='0', prediction=13), Row(Id='1', prediction=13), Row(Id='2', prediction=13)]\n"
          ],
          "name": "stdout"
        }
      ]
    },
    {
      "cell_type": "code",
      "metadata": {
        "colab": {
          "base_uri": "https://localhost:8080/"
        },
        "id": "vW23xSLF6dQ8",
        "outputId": "77dcaf4c-3a52-4009-8fcd-c596c1236af5"
      },
      "source": [
        "df_pred = sqlContext.createDataFrame(rows)\r\n",
        "df_pred.show()"
      ],
      "execution_count": null,
      "outputs": [
        {
          "output_type": "stream",
          "text": [
            "+---+----------+\n",
            "| Id|prediction|\n",
            "+---+----------+\n",
            "|  0|        13|\n",
            "|  1|        13|\n",
            "|  2|        13|\n",
            "|  3|        13|\n",
            "|  4|        13|\n",
            "|  5|        13|\n",
            "|  6|        13|\n",
            "|  7|        13|\n",
            "|  8|        13|\n",
            "|  9|        13|\n",
            "| 10|        13|\n",
            "| 11|        13|\n",
            "| 12|        13|\n",
            "| 13|        13|\n",
            "| 14|        13|\n",
            "| 15|        13|\n",
            "| 16|        13|\n",
            "| 17|        13|\n",
            "| 18|        13|\n",
            "| 19|        13|\n",
            "+---+----------+\n",
            "only showing top 20 rows\n",
            "\n"
          ],
          "name": "stdout"
        }
      ]
    },
    {
      "cell_type": "markdown",
      "metadata": {
        "id": "35b_INjS6lFc"
      },
      "source": [
        "# **Join prediction result + original data**"
      ]
    },
    {
      "cell_type": "code",
      "metadata": {
        "id": "76RVh_oNEmSf",
        "colab": {
          "base_uri": "https://localhost:8080/"
        },
        "outputId": "80618d44-ecef-4e83-fe45-ec003f4e4fce"
      },
      "source": [
        "df_pred = df_pred.join(df,'Id')\r\n",
        "df_pred.show()"
      ],
      "execution_count": null,
      "outputs": [
        {
          "output_type": "stream",
          "text": [
            "+-----+----------+------------+--------------+------------------+---+----+----+--------+---------+--------+--------+---------+--------+--------+---------+\n",
            "|   Id|prediction|total_salary|total_benefits|total_compensation| _5|  _6|  _7|      _8|       _9|     _10|     _11|      _12|     _13|     _14|      _15|\n",
            "+-----+----------+------------+--------------+------------------+---+----+----+--------+---------+--------+--------+---------+--------+--------+---------+\n",
            "|10096|        12|     42701.0|        2019.0|               7.0|791|2300|2320| 8567133|143593.01|     0.0|  291.52|143884.53|10640.27|67414.08|211298.61|\n",
            "|10351|        12|     43050.0|        2019.0|               2.0|130|7300|7381| 8588819| 34728.78|    0.67|     0.0| 34729.45| 3617.67| 25740.5| 60469.95|\n",
            "|10436|        12|     43167.0|        2019.0|               1.0|798|H000|H003| 8493090| 82723.04| 7771.93| 4794.62| 95289.59| 1593.24|45538.98|140828.57|\n",
            "| 1090|        11|     11321.0|        2020.0|               1.0|790|8200|8238| 8535260| 44108.35|22788.15|  710.02| 67606.52| 5228.45|21222.86| 88829.38|\n",
            "|11078|        15|     43998.0|        2019.0|               4.0| 21|1000|1041| 8503383|107559.61|     0.0|     0.0|107559.61| 8367.47|58384.76|165944.37|\n",
            "|11332|        15|     44341.0|        2019.0|               2.0|790|2700|2708| 8602539| 43720.98|     0.0| 1761.74| 45482.72|  4088.3|33518.63| 79001.35|\n",
            "|11563|        15|     44598.0|        2019.0|               4.0|250|2700|2736| 8527338| 54494.05|   594.0|     0.0| 55088.05| 4469.79|46643.25| 101731.3|\n",
            "| 1159|        16|     11746.0|        2020.0|               5.0|790|3200|3279| 8566279|  1257.28|     0.0|   22.31|  1279.59|   99.32|   99.32|  1378.91|\n",
            "|11722|        15|     44770.0|        2019.0|               7.0| 21|5600|5620| 8571696|117493.97|     0.0|14334.51|131828.48|10814.65|63752.01|195580.49|\n",
            "|11888|        15|     44948.0|        2019.0|               7.0|250|2300|2303| 8525285|  78487.5|   724.8|  958.44| 80170.74| 6560.52|51732.03|131902.77|\n",
            "|12394|         8|     45510.0|        2019.0|               7.0|911|Q000|Q003| 8551081|104815.52| 44739.6| 3160.62|152715.74|  2561.3|52450.68|205166.42|\n",
            "|12529|         8|     45661.0|        2019.0|               7.0| 21|1800|1823| 8530929| 90545.84|     0.0|     0.0| 90545.84| 7061.77| 48192.9|138738.74|\n",
            "|12847|         8|     45998.0|        2019.0|               2.0|790|9200|9212|10670154| 13268.01|     0.0|  743.02| 14011.03| 1137.68| 8512.24| 22523.27|\n",
            "|13192|         8|     46376.0|        2019.0|               4.0| 21|2500|2593| 8567135|113986.03|     0.0|  2147.9|116133.93| 9093.07|61047.43|177181.36|\n",
            "|13282|         8|     46472.0|        2019.0|               4.0|250|2300|2302| 8510244| 78744.34| 1482.69| 6444.84| 86671.87| 6805.74|53164.79|139836.66|\n",
            "|13442|         8|     46647.0|        2019.0|               4.0|791|2300|P103| 8508022|    195.5|     0.0|   14.66|   210.16|   16.27|   16.27|   226.43|\n",
            "|13610|         8|     46832.0|        2019.0|               6.0|790|2700|2708| 8514494|  63447.0|  373.95| 5133.58| 68954.53| 5640.41| 48900.9|117855.43|\n",
            "|13772|         8|     47008.0|        2019.0|               6.0| 21|1000|1053| 8514816| 101850.0|     0.0|     0.0| 101850.0| 8104.62|51421.99|153271.99|\n",
            "|13865|         8|     47105.0|        2019.0|               3.0| 21|1800|1823| 8554965|  99923.0|     0.0|     0.0|  99923.0| 8035.79|57287.48|157210.48|\n",
            "|14157|         8|     47419.0|        2019.0|               2.0|253|9100|9163| 8499743|  6973.28|   20.78|   250.0|  7244.06|  488.51| 4696.09| 11940.15|\n",
            "+-----+----------+------------+--------------+------------------+---+----+----+--------+---------+--------+--------+---------+--------+--------+---------+\n",
            "only showing top 20 rows\n",
            "\n"
          ],
          "name": "stdout"
        }
      ]
    },
    {
      "cell_type": "markdown",
      "metadata": {
        "id": "M2xrdr-tElm3"
      },
      "source": [
        "# **Converto to Data frame**"
      ]
    },
    {
      "cell_type": "code",
      "metadata": {
        "id": "2U7lGl06EmuA",
        "colab": {
          "base_uri": "https://localhost:8080/",
          "height": 247
        },
        "outputId": "7b8008a8-64cf-4d54-bd8e-41d2478dea4c"
      },
      "source": [
        "pddf_pred = df_pred.toPandas().set_index('Id')\r\n",
        "pddf_pred.head()"
      ],
      "execution_count": null,
      "outputs": [
        {
          "output_type": "execute_result",
          "data": {
            "text/html": [
              "<div>\n",
              "<style scoped>\n",
              "    .dataframe tbody tr th:only-of-type {\n",
              "        vertical-align: middle;\n",
              "    }\n",
              "\n",
              "    .dataframe tbody tr th {\n",
              "        vertical-align: top;\n",
              "    }\n",
              "\n",
              "    .dataframe thead th {\n",
              "        text-align: right;\n",
              "    }\n",
              "</style>\n",
              "<table border=\"1\" class=\"dataframe\">\n",
              "  <thead>\n",
              "    <tr style=\"text-align: right;\">\n",
              "      <th></th>\n",
              "      <th>prediction</th>\n",
              "      <th>total_salary</th>\n",
              "      <th>total_benefits</th>\n",
              "      <th>total_compensation</th>\n",
              "      <th>_5</th>\n",
              "      <th>_6</th>\n",
              "      <th>_7</th>\n",
              "      <th>_8</th>\n",
              "      <th>_9</th>\n",
              "      <th>_10</th>\n",
              "      <th>_11</th>\n",
              "      <th>_12</th>\n",
              "      <th>_13</th>\n",
              "      <th>_14</th>\n",
              "      <th>_15</th>\n",
              "    </tr>\n",
              "    <tr>\n",
              "      <th>Id</th>\n",
              "      <th></th>\n",
              "      <th></th>\n",
              "      <th></th>\n",
              "      <th></th>\n",
              "      <th></th>\n",
              "      <th></th>\n",
              "      <th></th>\n",
              "      <th></th>\n",
              "      <th></th>\n",
              "      <th></th>\n",
              "      <th></th>\n",
              "      <th></th>\n",
              "      <th></th>\n",
              "      <th></th>\n",
              "      <th></th>\n",
              "    </tr>\n",
              "  </thead>\n",
              "  <tbody>\n",
              "    <tr>\n",
              "      <th>10096</th>\n",
              "      <td>12</td>\n",
              "      <td>42701.0</td>\n",
              "      <td>2019.0</td>\n",
              "      <td>7.0</td>\n",
              "      <td>791</td>\n",
              "      <td>2300</td>\n",
              "      <td>2320</td>\n",
              "      <td>8567133</td>\n",
              "      <td>143593.01</td>\n",
              "      <td>0.0</td>\n",
              "      <td>291.52</td>\n",
              "      <td>143884.53</td>\n",
              "      <td>10640.27</td>\n",
              "      <td>67414.08</td>\n",
              "      <td>211298.61</td>\n",
              "    </tr>\n",
              "    <tr>\n",
              "      <th>10351</th>\n",
              "      <td>12</td>\n",
              "      <td>43050.0</td>\n",
              "      <td>2019.0</td>\n",
              "      <td>2.0</td>\n",
              "      <td>130</td>\n",
              "      <td>7300</td>\n",
              "      <td>7381</td>\n",
              "      <td>8588819</td>\n",
              "      <td>34728.78</td>\n",
              "      <td>0.67</td>\n",
              "      <td>0.0</td>\n",
              "      <td>34729.45</td>\n",
              "      <td>3617.67</td>\n",
              "      <td>25740.5</td>\n",
              "      <td>60469.95</td>\n",
              "    </tr>\n",
              "    <tr>\n",
              "      <th>10436</th>\n",
              "      <td>12</td>\n",
              "      <td>43167.0</td>\n",
              "      <td>2019.0</td>\n",
              "      <td>1.0</td>\n",
              "      <td>798</td>\n",
              "      <td>H000</td>\n",
              "      <td>H003</td>\n",
              "      <td>8493090</td>\n",
              "      <td>82723.04</td>\n",
              "      <td>7771.93</td>\n",
              "      <td>4794.62</td>\n",
              "      <td>95289.59</td>\n",
              "      <td>1593.24</td>\n",
              "      <td>45538.98</td>\n",
              "      <td>140828.57</td>\n",
              "    </tr>\n",
              "    <tr>\n",
              "      <th>1090</th>\n",
              "      <td>11</td>\n",
              "      <td>11321.0</td>\n",
              "      <td>2020.0</td>\n",
              "      <td>1.0</td>\n",
              "      <td>790</td>\n",
              "      <td>8200</td>\n",
              "      <td>8238</td>\n",
              "      <td>8535260</td>\n",
              "      <td>44108.35</td>\n",
              "      <td>22788.15</td>\n",
              "      <td>710.02</td>\n",
              "      <td>67606.52</td>\n",
              "      <td>5228.45</td>\n",
              "      <td>21222.86</td>\n",
              "      <td>88829.38</td>\n",
              "    </tr>\n",
              "    <tr>\n",
              "      <th>11078</th>\n",
              "      <td>15</td>\n",
              "      <td>43998.0</td>\n",
              "      <td>2019.0</td>\n",
              "      <td>4.0</td>\n",
              "      <td>21</td>\n",
              "      <td>1000</td>\n",
              "      <td>1041</td>\n",
              "      <td>8503383</td>\n",
              "      <td>107559.61</td>\n",
              "      <td>0.0</td>\n",
              "      <td>0.0</td>\n",
              "      <td>107559.61</td>\n",
              "      <td>8367.47</td>\n",
              "      <td>58384.76</td>\n",
              "      <td>165944.37</td>\n",
              "    </tr>\n",
              "  </tbody>\n",
              "</table>\n",
              "</div>"
            ],
            "text/plain": [
              "       prediction  total_salary  total_benefits  ...       _13       _14        _15\n",
              "Id                                               ...                               \n",
              "10096          12       42701.0          2019.0  ...  10640.27  67414.08  211298.61\n",
              "10351          12       43050.0          2019.0  ...   3617.67   25740.5   60469.95\n",
              "10436          12       43167.0          2019.0  ...   1593.24  45538.98  140828.57\n",
              "1090           11       11321.0          2020.0  ...   5228.45  21222.86   88829.38\n",
              "11078          15       43998.0          2019.0  ...   8367.47  58384.76  165944.37\n",
              "\n",
              "[5 rows x 15 columns]"
            ]
          },
          "metadata": {
            "tags": []
          },
          "execution_count": 112
        }
      ]
    },
    {
      "cell_type": "markdown",
      "metadata": {
        "id": "M55dV7GrEsAX"
      },
      "source": [
        "# **Visualisasi**"
      ]
    },
    {
      "cell_type": "code",
      "metadata": {
        "id": "WHEZgzGOEtiy",
        "colab": {
          "base_uri": "https://localhost:8080/",
          "height": 574
        },
        "outputId": "26cb44c2-07d2-4c60-e0c7-6c49c945fcd2"
      },
      "source": [
        "threedee = plt.figure(figsize=(12,10)).gca(projection='3d')\r\n",
        "threedee.scatter(pddf_pred.total_salary, pddf_pred.total_benefits, pddf_pred.total_compensation, c=pddf_pred.prediction)\r\n",
        "threedee.set_xlabel('total benefit')\r\n",
        "threedee.set_ylabel('total salary')\r\n",
        "threedee.set_zlabel('total compensation')\r\n",
        "plt.show()"
      ],
      "execution_count": null,
      "outputs": [
        {
          "output_type": "display_data",
          "data": {
            "image/png": "[encoded data removed]",
            "text/plain": [
              "<Figure size 864x720 with 1 Axes>"
            ]
          },
          "metadata": {
            "tags": [],
            "needs_background": "light"
          }
        }
      ]
    }
  ]
}